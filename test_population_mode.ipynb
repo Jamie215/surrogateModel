{
 "cells": [
  {
   "cell_type": "code",
   "execution_count": 2,
   "metadata": {
    "scrolled": true
   },
   "outputs": [
    {
     "name": "stdout",
     "output_type": "stream",
     "text": [
      "dimension is: 2\n",
      "originIndices.shape: (1, 2)\n",
      "len(originIndices): 1\n"
     ]
    },
    {
     "ename": "TypeError",
     "evalue": "object of type 'int' has no len()",
     "output_type": "error",
     "traceback": [
      "\u001b[0;31m---------------------------------------------------------------------------\u001b[0m",
      "\u001b[0;31mTypeError\u001b[0m                                 Traceback (most recent call last)",
      "\u001b[0;32m<ipython-input-2-bd2fe46931ca>\u001b[0m in \u001b[0;36m<module>\u001b[0;34m()\u001b[0m\n\u001b[1;32m     31\u001b[0m \u001b[0;34m\u001b[0m\u001b[0m\n\u001b[1;32m     32\u001b[0m     \u001b[0;31m# Surrogate population\u001b[0m\u001b[0;34m\u001b[0m\u001b[0;34m\u001b[0m\u001b[0m\n\u001b[0;32m---> 33\u001b[0;31m     \u001b[0msurr_pop2D\u001b[0m \u001b[0;34m=\u001b[0m \u001b[0mPopulationModeModel\u001b[0m\u001b[0;34m(\u001b[0m\u001b[0mpop2D\u001b[0m\u001b[0;34m)\u001b[0m\u001b[0;34m\u001b[0m\u001b[0m\n\u001b[0m\u001b[1;32m     34\u001b[0m     \u001b[0msurr_pop2D\u001b[0m\u001b[0;34m.\u001b[0m\u001b[0mcreateBiasModel\u001b[0m\u001b[0;34m(\u001b[0m\u001b[0;34m)\u001b[0m\u001b[0;34m\u001b[0m\u001b[0m\n\u001b[1;32m     35\u001b[0m     \u001b[0;31m# surr_pop2D.createNoiseModel()\u001b[0m\u001b[0;34m\u001b[0m\u001b[0;34m\u001b[0m\u001b[0m\n",
      "\u001b[0;32m/Users/Jamie/Dropbox/SurrogateModel/PopulationMode.py\u001b[0m in \u001b[0;36m__init__\u001b[0;34m(self, population)\u001b[0m\n\u001b[1;32m     10\u001b[0m         \u001b[0mself\u001b[0m\u001b[0;34m.\u001b[0m\u001b[0mdim\u001b[0m \u001b[0;34m=\u001b[0m \u001b[0mpopulation\u001b[0m\u001b[0;34m.\u001b[0m\u001b[0mdimensions\u001b[0m \u001b[0;31m# dimension of the population\u001b[0m\u001b[0;34m\u001b[0m\u001b[0m\n\u001b[1;32m     11\u001b[0m         \u001b[0;31m# a vector that speicfies the origin to which each bias element belongs\u001b[0m\u001b[0;34m\u001b[0m\u001b[0;34m\u001b[0m\u001b[0m\n\u001b[0;32m---> 12\u001b[0;31m         \u001b[0mself\u001b[0m\u001b[0;34m.\u001b[0m\u001b[0moriginIndices\u001b[0m \u001b[0;34m=\u001b[0m \u001b[0mself\u001b[0m\u001b[0;34m.\u001b[0m\u001b[0mmakeOriginIndices\u001b[0m\u001b[0;34m(\u001b[0m\u001b[0;34m)\u001b[0m\u001b[0;34m\u001b[0m\u001b[0m\n\u001b[0m\u001b[1;32m     13\u001b[0m \u001b[0;34m\u001b[0m\u001b[0m\n\u001b[1;32m     14\u001b[0m         \u001b[0;31m# bias grid\u001b[0m\u001b[0;34m\u001b[0m\u001b[0;34m\u001b[0m\u001b[0m\n",
      "\u001b[0;32m/Users/Jamie/Dropbox/SurrogateModel/PopulationMode.py\u001b[0m in \u001b[0;36mmakeOriginIndices\u001b[0;34m(self)\u001b[0m\n\u001b[1;32m     50\u001b[0m         \u001b[0mnOrigin\u001b[0m \u001b[0;34m=\u001b[0m \u001b[0;36m1\u001b[0m \u001b[0;31m# TODO: Discard the assumption that there to be only one origin\u001b[0m\u001b[0;34m\u001b[0m\u001b[0m\n\u001b[1;32m     51\u001b[0m         \u001b[0;32mprint\u001b[0m \u001b[0;34m\"len(originIndices): {}\"\u001b[0m\u001b[0;34m.\u001b[0m\u001b[0mformat\u001b[0m\u001b[0;34m(\u001b[0m\u001b[0mlen\u001b[0m\u001b[0;34m(\u001b[0m\u001b[0moriginIndices\u001b[0m\u001b[0;34m)\u001b[0m\u001b[0;34m)\u001b[0m\u001b[0;34m\u001b[0m\u001b[0m\n\u001b[0;32m---> 52\u001b[0;31m         \u001b[0;32mfor\u001b[0m \u001b[0mi\u001b[0m \u001b[0;32min\u001b[0m \u001b[0mlen\u001b[0m\u001b[0;34m(\u001b[0m\u001b[0;36m2\u001b[0m\u001b[0;34m)\u001b[0m\u001b[0;34m:\u001b[0m\u001b[0;34m\u001b[0m\u001b[0m\n\u001b[0m\u001b[1;32m     53\u001b[0m             \u001b[0moriginIndices\u001b[0m\u001b[0;34m[\u001b[0m\u001b[0;36m0\u001b[0m\u001b[0;34m,\u001b[0m\u001b[0mi\u001b[0m\u001b[0;34m]\u001b[0m \u001b[0;34m=\u001b[0m \u001b[0mself\u001b[0m\u001b[0;34m.\u001b[0m\u001b[0mdim\u001b[0m\u001b[0;34m\u001b[0m\u001b[0m\n\u001b[1;32m     54\u001b[0m         \u001b[0;32mreturn\u001b[0m \u001b[0moriginIndices\u001b[0m\u001b[0;34m\u001b[0m\u001b[0m\n",
      "\u001b[0;31mTypeError\u001b[0m: object of type 'int' has no len()"
     ]
    }
   ],
   "source": [
    "import numpy as np\n",
    "%matplotlib inline\n",
    "import matplotlib.pyplot as plt\n",
    "import nengo\n",
    "from PopulationMode import PopulationModeModel\n",
    "\n",
    "\"\"\"\n",
    "Test for simulating population mode; simulate both models and compare the \n",
    "result by plotting their result\n",
    "\n",
    "\"\"\"\n",
    "tau_ref = 0.0025 # refactory time\n",
    "tau_RC = 0.02 # membrane RC time constant\n",
    "n = 200\n",
    "intercepts = -1 + 2*np.random.rand(1,n)[0]\n",
    "max_rates = 80 + 50*np.random.rand(1,n)[0]\n",
    "v0 = 0\n",
    "dt = 0.0005\n",
    "\n",
    "model = nengo.Network(label=\"test_populationMode\")\n",
    "with model:\n",
    "    # Default population\n",
    "    pop2D = nengo.Ensemble(n, dimensions=2, intercepts=intercepts,\n",
    "            max_rates=max_rates, neuron_type=nengo.LIF(tau_RC, tau_ref, v0),\n",
    "            label=\"2D Population\")\n",
    "    orig_input = nengo.Node(lambda x: x) # input to the population\n",
    "    print (\"dimension is: {0}\".format(pop2D.dimensions))\n",
    "    # Add connections\n",
    "    orig_conn_1 = nengo.Connection(orig_input, pop2D[0])\n",
    "    orig_conn_2 = nengo.Connection(orig_input, pop2D[1])\n",
    "\n",
    "    # Surrogate population\n",
    "    surr_pop2D = PopulationModeModel(pop2D)\n",
    "    surr_pop2D.createBiasModel()\n",
    "    # surr_pop2D.createNoiseModel()\n",
    "\n",
    "    orig_probe = nengo.Probe(orig_input)\n",
    "\n",
    "# Simulate the model for second(s)\n",
    "with nengo.Simulator(model) as sim:\n",
    "    sim.run(2)\n",
    "\n",
    "def_points = pop2D.eval_points\n",
    "pop_rates = pop2D.neuron_type.rates(sim.data[orig_probe], \n",
    "        gain=sim.data[pop2D].gain, bias=sim.data[pop2D].bias)\n",
    "popMode_rates = surr_pop2D.pop.neuron_type.rates(sim.data[orig_probe], gain=sim.data[surr_pop2D].gain, bias=sim.data[surr_pop2D].bias)\n",
    "\n",
    "plt.figure()\n",
    "plt.title('Firing rate changing over time with default mode')\n",
    "plt.plot(def_rates)\n",
    "plt.ylabel('Firing rate (Hz)')\n",
    "plt.xlabel('Time (ms)')\n",
    "plt.savefig('Firing rate chaging over time.png')\n",
    "\n",
    "plt.figure()\n",
    "plt.title('Firing rate changing over time with population mode')\n",
    "plt.plot(pop_rates)\n",
    "plt.ylabel('Firing rate (Hz)')\n",
    "plt.xlabel('Time (ms)')\n",
    "plt.savefig('Firing rate chaging over time.png')\n",
    "\n",
    "# [simBias, ideal] = surr_pop2D.getBiasSamples(points)\n",
    "# modelBias = np.zeros(simBias.shape)\n",
    "# diffBias = np.zeros(simBias.shape)\n",
    "# diffThresh = 0\n",
    "\n",
    "# for i in range(n):\n",
    "#     modelBias[:,i] = pop.getBias(points[:,i])\n",
    "#     diffBias[:,i] = modelBias[:,i] - simBias[:,i]\n"
   ]
  },
  {
   "cell_type": "code",
   "execution_count": null,
   "metadata": {
    "collapsed": true
   },
   "outputs": [],
   "source": []
  },
  {
   "cell_type": "code",
   "execution_count": null,
   "metadata": {
    "collapsed": true
   },
   "outputs": [],
   "source": []
  }
 ],
 "metadata": {
  "kernelspec": {
   "display_name": "Python 2",
   "language": "python",
   "name": "python2"
  },
  "language_info": {
   "codemirror_mode": {
    "name": "ipython",
    "version": 2
   },
   "file_extension": ".py",
   "mimetype": "text/x-python",
   "name": "python",
   "nbconvert_exporter": "python",
   "pygments_lexer": "ipython2",
   "version": "2.7.13"
  }
 },
 "nbformat": 4,
 "nbformat_minor": 2
}
