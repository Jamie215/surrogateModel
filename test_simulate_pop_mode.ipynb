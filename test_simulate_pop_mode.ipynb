{
 "cells": [
  {
   "cell_type": "code",
   "execution_count": 1,
   "metadata": {},
   "outputs": [
    {
     "name": "stderr",
     "output_type": "stream",
     "text": [
      "/Library/Frameworks/Python.framework/Versions/2.7/lib/python2.7/site-packages/statsmodels/compat/pandas.py:56: FutureWarning: The pandas.core.datetools module is deprecated and will be removed in a future version. Please use the pandas.tseries module instead.\n",
      "  from pandas.core import datetools\n"
     ]
    }
   ],
   "source": [
    "%matplotlib inline\n",
    "#load_ext nengo.ipynb\n",
    "\n",
    "import numpy as np\n",
    "import matplotlib.pyplot as plt\n",
    "from mpl_toolkits.mplot3d import Axes3D\n",
    "import nengo\n",
    "from nengo.utils.ensemble import tuning_curves\n",
    "from PopulationMode import PopulationModeModel\n",
    "import nengo.utils.numpy as npext\n",
    "# from nengo_gui.ipython import IpythonViz\n"
   ]
  },
  {
   "cell_type": "code",
   "execution_count": 2,
   "metadata": {},
   "outputs": [],
   "source": [
    "# Variables initialization (TODO: Implement different versions of variables as covered in the article)\n",
    "tau_ref = 0.002 # refactory time\n",
    "tau_RC = 0.02 # membrane RC time constant\n",
    "synapse = 0.01\n",
    "n = 10 # number of neurons\n",
    "sim_time = 5\n",
    "intercepts = -1 + 2*np.random.rand(1,n)[0]\n",
    "max_rates = 80 + 50*np.random.rand(1,n)[0]\n",
    "v0 = 0\n",
    "dt = 0.001\n",
    "rad = 3\n",
    "dim = 2\n",
    "seed = None"
   ]
  },
  {
   "cell_type": "code",
   "execution_count": 3,
   "metadata": {},
   "outputs": [],
   "source": [
    "# Initial model & connections\n",
    "model = nengo.Network(label=\"test_populationMode\", seed=seed)\n",
    "with model:\n",
    "    if dim == 1:\n",
    "        stim = nengo.Node(output=lambda t: 2*(t % 1) - 1)\n",
    "        pre = nengo.Ensemble(n, dimensions=1, intercepts=intercepts,\n",
    "                max_rates=max_rates, neuron_type=nengo.LIF(tau_RC, tau_ref, v0),\n",
    "                label=\"Pre\", radius=rad, seed=seed)\n",
    "        post = nengo.Ensemble(n, dimensions=1, intercepts=intercepts,\n",
    "                max_rates=max_rates, neuron_type=nengo.LIF(tau_RC, tau_ref, v0),\n",
    "                label=\"Post\", radius=rad, seed=seed)\n",
    "        end = nengo.Node(None, size_in=1) # For second population's decoder\n",
    "\n",
    "    elif dim == 2:\n",
    "        stim = nengo.Node(output=lambda t: 2*(t % 1) - 1, size_out=2)\n",
    "        pre = nengo.Ensemble(n, dimensions=2, intercepts=intercepts,\n",
    "                max_rates=max_rates, neuron_type=nengo.LIF(tau_RC, tau_ref, v0),\n",
    "                label=\"Pre\", radius=2)\n",
    "        post = nengo.Ensemble(n, dimensions=2, intercepts=intercepts,\n",
    "                max_rates=max_rates, neuron_type=nengo.LIF(tau_RC, tau_ref, v0),\n",
    "                label=\"Post\", radius=2)\n",
    "        end = nengo.Node(None, size_in=2)\n",
    "\n",
    "        \n",
    "    # Add connections\n",
    "    nengo.Connection(stim, pre)\n",
    "    nengo.Connection(pre, pre) \n",
    "    nengo.Connection(post, post)\n",
    "    conn_stim = nengo.Connection(pre, post)\n",
    "    conn_end = nengo.Connection(post, end)\n",
    "    \n",
    "    origins = [conn_stim.pre]\n",
    "    stim_probe = nengo.Probe(stim)\n",
    "    pre_probe = nengo.Probe(pre, synapse=synapse)\n",
    "    post_probe = nengo.Probe(post, synapse=synapse)\n",
    "    end_probe = nengo.Probe(end)\n",
    "    \n",
    "#     IpythonViz(model)"
   ]
  },
  {
   "cell_type": "code",
   "execution_count": 4,
   "metadata": {
    "scrolled": false
   },
   "outputs": [
    {
     "name": "stdout",
     "output_type": "stream",
     "text": [
      "Building finished in 0:00:01.                                                   \n",
      "Simulating finished in 0:00:02.                                                 \n"
     ]
    },
    {
     "name": "stderr",
     "output_type": "stream",
     "text": [
      "/Library/Frameworks/Python.framework/Versions/2.7/lib/python2.7/site-packages/ipykernel_launcher.py:6: DeprecationWarning: object of type <type 'float'> cannot be safely interpreted as an integer.\n",
      "  \n"
     ]
    },
    {
     "name": "stdout",
     "output_type": "stream",
     "text": [
      "(2, 1000, 5000)\n"
     ]
    }
   ],
   "source": [
    "# Simulate the model for second(s)\n",
    "with nengo.Simulator(model, dt=dt) as sim:\n",
    "    sim.run(sim_time)\n",
    "\n",
    "# Surrogate population\n",
    "x_vals = np.linspace(-rad, rad, num=sim_time/dt)\n",
    "if dim > 1:\n",
    "    x_vals = np.asarray(npext.meshgrid_nd(*(dim * [x_vals])))\n",
    "    \n",
    "eval_points_pre, rates_pre = tuning_curves(pre, sim, inputs=x_vals)\n",
    "eval_points_post, rates_post = tuning_curves(post, sim, inputs=x_vals)\n",
    "decoders = [sim.data[conn_stim].weights, sim.data[conn_end].weights]\n",
    "rates = [rates_pre.T, rates_post.T]\n",
    "print rates_pre.shape\n",
    "input = sim.data[stim_probe]\n",
    "outputs = [sim.data[pre_probe], sim.data[post_probe]]\n",
    "\n",
    "params = {'population':post,'origins':origins,'x_vals':eval_points_post,\n",
    "          'rates':rates,'decoders':decoders,'timerange':sim.trange(),'dt':dt,\n",
    "          'outputs':outputs\n",
    "         }\n",
    "\n",
    "surr_pop = PopulationModeModel(n, sim_time, dim, params=params)\n"
   ]
  },
  {
   "cell_type": "code",
   "execution_count": 5,
   "metadata": {},
   "outputs": [
    {
     "name": "stdout",
     "output_type": "stream",
     "text": [
      "actual shape: (1000, 2), ideal shape: (1000, 2)\n",
      "self.bias_values_sim: [[ 0.          0.        ]\n",
      " [ 0.          0.        ]\n",
      " [ 0.          0.        ]\n",
      " ..., \n",
      " [-0.15071077 -0.38733798]\n",
      " [-1.07854878 -0.91765641]\n",
      " [-1.16236121 -0.24624579]]\n",
      "and its shape: (1000, 2)\n",
      "self.bias_values_est: [[  1.39662783e-012   1.20269626e-012]\n",
      " [  1.39476007e-012  -1.20189179e-012]\n",
      " [  1.25304118e-011   3.60245269e-012]\n",
      " ..., \n",
      " [ -1.50752297e-001   0.00000000e+000]\n",
      " [ -1.07929368e+000  -4.94065646e-324]\n",
      " [ -1.16236121e+000  -4.94065646e-324]]\n",
      "and its shape: (1000, 2)\n"
     ]
    },
    {
     "data": {
      "text/plain": [
       "[<matplotlib.lines.Line2D at 0x12dd49090>,\n",
       " <matplotlib.lines.Line2D at 0x12dd3e1d0>]"
      ]
     },
     "execution_count": 5,
     "metadata": {},
     "output_type": "execute_result"
    },
    {
     "data": {
      "image/png": "[encoded data removed]",
      "text/plain": [
       "<matplotlib.figure.Figure at 0x10ab3f410>"
      ]
     },
     "metadata": {},
     "output_type": "display_data"
    },
    {
     "data": {
      "image/png": "[encoded data removed]",
      "text/plain": [
       "<matplotlib.figure.Figure at 0x12dcce590>"
      ]
     },
     "metadata": {},
     "output_type": "display_data"
    }
   ],
   "source": [
    "# Validate the bias model of the surrogate model\n",
    "surr_pop.createBiasModel(mode=\"lin_interp\")\n",
    "# print surr_pop.bias_values_est\n",
    "\n",
    "plt.figure()\n",
    "plt.plot(sim.trange(), input, 'k', label=\"Input\")\n",
    "plt.plot(sim.trange(), surr_pop.ideal_values,'g', label=\"Pre out\")\n",
    "plt.plot(sim.trange(), surr_pop.actual_values,'b', label=\"Post out\")\n",
    "plt.legend()\n",
    "\n",
    "# plt.plot(eval_points_post, surr_pop.bias_values_sim.T,'k',label='Simulated bias')\n",
    "# plt.plot(eval_points_post, surr_pop.bias_values_est.T,'g',label='Modeled bias')\n",
    "# plt.plot(eval_points_post, (surr_pop.bias_values_sim-surr_pop.bias_values_est).T,'b',label='Difference')\n",
    "# plt.legend()\n",
    "\n",
    "plt.figure()\n",
    "plt.plot(surr_pop.bias_values_sim, surr_pop.bias_values_est)"
   ]
  },
  {
   "cell_type": "code",
   "execution_count": 6,
   "metadata": {},
   "outputs": [
    {
     "name": "stdout",
     "output_type": "stream",
     "text": [
      "[ 0.          0.          0.          0.          0.          0.          0.\n",
      "  0.          0.          0.          0.          0.          0.98874225\n",
      "  0.89465099  0.47065293  0.02629189 -0.38949419 -0.38674207 -0.3499387\n",
      " -0.31663763 -0.28650557  0.72950129  0.66008006  1.18483498  0.72555316\n",
      " -0.49867738 -0.45122196 -0.40828251 -0.46252348 -0.76503842 -0.0423539\n",
      "  0.12623746 -0.79596849 -0.72022207 -0.99821375 -0.90322115 -1.06226045\n",
      " -0.49090827  0.54455008 -0.25337306 -1.13945429 -1.12411507 -0.70492467\n",
      "  0.37594416 -0.59021445 -0.53404812 -0.8827992  -0.72024037 -0.58447588\n",
      " -0.47157092 -0.42669501 -0.72495037 -1.05553471 -0.9550873  -2.05369691\n",
      " -0.86951956 -0.28986504 -0.26228074 -0.61049534 -0.95197151 -0.86137945\n",
      " -1.68960122 -1.03190562 -1.52522884  0.43775242  0.30300058 -0.46426698\n",
      " -0.26970721 -1.39922621 -1.26607223 -0.83337282 -0.75406691 -0.37895633\n",
      " -0.74246635 -0.26799674 -1.08546179 -0.98216645 -1.23523082 -1.11768306\n",
      " -1.01132146 -1.65351475  0.30170574 -0.98372809 -1.13510615 -1.02708652\n",
      " -0.41246872 -0.46057291 -0.60522544 -0.64072481 -1.73493682 -0.5810935\n",
      " -0.52579514 -0.51007227 -0.36419617 -0.66839909 -0.6047925  -1.70242392\n",
      " -1.88694673 -1.48825748 -0.35788881 -0.22649488 -0.89033167 -0.80560541\n",
      " -1.32691808 -1.44563729 -0.79118912 -1.06242739  0.0274182  -0.46170761\n",
      " -0.1986478  -1.4364667  -1.29976882 -1.17607946 -1.30915286 -1.1845705\n",
      " -1.31336817 -0.23395556 -1.12188462 -1.01512318 -1.25660779 -0.64011696\n",
      " -1.01308741 -1.25554016 -1.13605972 -1.02794934 -0.85157765 -0.28797488\n",
      " -0.00865382 -0.40740279 -0.70749405 -0.98669696 -0.98589452 -2.04725928\n",
      " -1.54022009 -0.40490651 -0.21599564 -0.59501342 -0.87725117 -0.48155297\n",
      " -1.34592002 -1.80936082 -1.63717738 -0.98447056 -0.30161603 -0.29955752\n",
      " -0.61758072 -0.95212543 -1.19960506 -0.58853876 -0.53253189 -0.91574042\n",
      " -1.16745696 -0.06761649 -1.21636696 -1.10061434 -0.84549811 -0.54591581\n",
      " -0.89353753 -1.14736696 -1.03818056 -2.19610735 -1.24337001 -0.31592221\n",
      " -0.28585824 -1.00475758 -1.24800302 -1.12923983 -1.61975461 -0.94873699\n",
      " -1.44997476 -0.41634335 -0.27938674 -0.59166034 -0.2231397  -1.45862789\n",
      " -1.56481325 -1.41590158 -1.28116073 -0.66233338 -0.35666412 -0.3493671\n",
      " -1.22631329 -1.4477005  -1.30993358 -1.53180679 -0.88912731 -0.89187143\n",
      " -0.62898182  0.41961597 -1.12203067 -1.01525533 -0.51482641 -0.55318997\n",
      " -0.84707686 -1.35031976 -1.22181984 -2.01574118 -0.83517579 -0.4434816\n",
      " -0.25089982 -0.62659603 -1.15082046 -1.04130541 -1.85240497 -1.80353267\n",
      " -1.63190385 -0.48786541 -0.34410257 -0.14100916 -0.39922658 -1.27142802\n",
      " -1.15043564 -1.04095722 -1.28842691 -1.90347571 -0.73359379 -0.19351838\n",
      " -1.08529554 -1.32854588 -1.20211802 -1.33271353 -1.60546155 -1.14046497\n",
      " -1.71732601 -0.06824979 -0.97194784 -0.87945477 -0.82163322 -0.97266925\n",
      " -0.88010753 -1.13521499 -1.027185   -2.08462045 -1.3893338  -0.70800301\n",
      " -0.3284109  -0.69673096 -0.969289   -1.12204112 -2.27198753 -1.55887054\n",
      " -1.09830768 -0.99378989 -0.31004851 -0.62707336 -0.9062602  -1.0650103\n",
      " -1.06472854 -0.96340622 -0.70137828 -1.12729998 -1.02002321 -0.51806583\n",
      " -0.15654864 -0.90146501 -0.81567928 -0.73805713 -1.31238635 -1.28059047\n",
      " -1.53190009 -1.38612052 -2.16440659 -0.96969381 -0.38050646 -1.33539099\n",
      " -0.89609502 -1.14968107 -1.04027445 -1.85147212 -1.50493353 -1.69980652\n",
      " -0.54930629 -0.08747987 -0.41801582 -0.72476622 -1.56598847 -1.66195712\n",
      " -1.50380099 -1.36069541 -2.07040466 -1.90002366 -0.73047025 -1.07424089\n",
      " -1.21700552 -1.447722   -0.99773632 -1.30236164 -1.51728631 -1.37289743\n",
      " -1.07190124 -0.89134697 -1.14461044 -0.22656085 -0.60457322 -1.2324311\n",
      " -1.11514978 -1.25402141 -1.13468549 -1.93689876 -1.44036176 -0.66108083\n",
      " -0.50083437 -0.79203444 -1.05474875 -0.98868929 -1.80479593 -1.63304689\n",
      " -1.47764193 -0.82014812 -1.14167319 -0.6281393  -0.60267709 -0.95860887\n",
      " -0.96047936 -0.86907766 -1.7774685  -1.60832001 -1.79412889 -1.31117824\n",
      " -1.18640313 -0.99495256 -1.24680018 -0.63124266 -0.90351991 -1.15639939\n",
      " -1.04635344 -1.29330961 -1.17023493 -1.45218763 -1.65208006 -0.5061216\n",
      " -0.54531353 -0.68190193 -0.61701038 -0.55829408 -1.66035041 -1.50234717\n",
      " -1.79900399 -1.7151619  -1.89080343 -0.72212744 -0.65340793 -0.44084902\n",
      " -1.55408172 -1.09397458 -0.98986913 -1.29524311 -1.34049748 -1.21293228\n",
      " -0.44685061 -1.31452002 -0.3803014  -0.6906408  -1.36335089 -1.2336109\n",
      " -1.36120946 -1.23167325 -1.11446405 -1.95291479 -0.77832813 -1.1038329\n",
      " -0.84074128 -1.09882052 -1.02856708 -0.93068598 -1.75231237 -1.06868021\n",
      " -0.96698184 -1.6210637  -1.06190977 -0.74173317 -0.67114793 -1.02056384\n",
      " -1.26997421 -1.39411235 -1.6610175  -1.84181155 -1.3543233  -1.2254424\n",
      " -1.455356   -1.23831118 -1.12047029 -1.3519298  -0.81372365 -1.42167824\n",
      " -1.28638767 -0.6470941  -1.49570783 -1.59836457 -1.79278994 -0.72653535\n",
      " -1.08361291 -0.98049351 -1.13217937 -1.43772234 -1.64743484 -1.49066069\n",
      " -1.03658885 -1.33751687 -1.54909607 -0.7594677  -0.93218696 -1.75367051\n",
      " -1.36766417 -0.22372734 -0.94853922 -1.19713454 -1.32820429 -1.20180894\n",
      " -1.99763457 -0.91188644 -1.10441429 -0.99931537 -1.64265119 -0.98942347\n",
      " -0.89526738 -1.15660129 -1.88950444 -1.70969432 -1.5469954  -1.7993518\n",
      " -0.97823935 -1.23167744 -1.11446783 -0.51740424 -0.8814508  -0.79756967\n",
      " -1.06820074 -1.70498125 -1.78772299 -1.61759866 -0.25579902 -1.48817926\n",
      " -1.34656028 -1.21841813 -1.84090356 -1.91071058 -1.23197364 -1.149049\n",
      " -1.03970253 -1.85095463 -0.68607075 -0.62078249 -1.12979275 -1.3603651\n",
      " -0.91869254 -0.83126738 -1.6623547  -1.00725195 -1.25792912 -1.78278598\n",
      " -1.95199223 -0.46527664 -0.42099971 -1.63765903 -1.57490936 -1.67002908\n",
      " -1.5111048  -1.7935207  -1.62284464 -2.38458602 -2.15766266 -1.95233391\n",
      " -1.76654477 -2.50862868 -1.53574045 -1.38959542 -1.6038878  -1.33395259\n",
      " -1.54587098 -1.39876191 -1.26565212 -1.39020155 -1.25790638 -2.04839363\n",
      " -1.85346321 -1.77017705 -1.9482523  -1.75753474 -1.27806648 -1.15644237\n",
      " -1.04639233 -1.85700781 -2.02682001 -1.83394259 -1.65941988 -1.74649736\n",
      " -1.80185182 -1.72347714 -1.5594666  -1.41106373 -2.01002436 -2.16527512\n",
      " -2.23876606 -2.60957222 -2.93088419 -3.05154617 -2.44893644 -2.21588933\n",
      " -2.00501958 -2.16074661 -2.86531725 -2.59264626 -2.34592335 -2.46153999\n",
      " -2.22729349 -2.01533849 -1.47937607 -1.33859482 -1.24552384 -1.12699657\n",
      " -1.41306395 -1.27859314 -1.58887386 -1.68266469 -1.92211045 -2.08572733\n",
      " -2.45404245 -2.22050943 -2.00920002 -1.07424927 -1.97530799 -2.69583895\n",
      " -2.43929595 -1.89494954 -2.06115111 -2.26457914 -2.04907594 -1.85408058\n",
      " -1.67764149 -1.51799279 -1.37353668 -0.93061067 -1.7269095  -2.4727652\n",
      " -2.58398035 -2.90488042 -2.6284445  -2.35879077 -2.13432215 -1.93121454\n",
      " -1.43521847 -1.29863937 -1.1750575  -1.06323599 -1.30858558 -1.18405719\n",
      " -1.07137925 -1.54206547 -1.39531854 -1.26253642 -2.05258307 -2.25682645\n",
      " -2.04206101 -2.41737882 -2.75413312 -2.4920427  -2.25489349 -1.72809529\n",
      " -2.10964266 -1.90888362  0.02016148  0.01824286  1.00524908  0.90958698\n",
      "  0.82302833  0.74470683  0.98605532  0.89221975  0.80731381  0.73048775\n",
      "  0.09132705  0.08263613  0.07477226 -0.89871406 -0.81319011 -1.28180222\n",
      " -0.8476059  -0.76694553 -0.69396102  1.11946891  1.01293736  0.91654362\n",
      "  0.82932297  0.18075685  0.16355556  1.13673345  1.34077567  0.66718662\n",
      "  0.60369541  0.5462462  -0.07253432 -0.06563176 -0.05938608 -0.05373474\n",
      " -0.04862121 -0.04399429  1.70758313  1.54508511  1.39805082  0.69536309\n",
      "  0.62919055  0.33553448  0.30360415  0.2747124  -0.31822826 -0.74279617\n",
      " -0.67210977  1.13924074  1.03082765  0.93273143  0.8439703   0.21765852\n",
      " -0.37270002 -0.33723293 -0.30514097 -0.27610297 -1.27147794 -1.15048082\n",
      "  0.70639271  0.50333233 -0.09056345 -0.0819452  -0.07414708 -1.09158798\n",
      " -0.98770965 -0.89371665 -0.80866827  0.44887918 -0.1398347  -0.12652767\n",
      " -0.5693383  -0.65099682 -0.50957667 -0.46108404 -0.98685169  0.85445047\n",
      "  0.77313875 -0.41323082 -0.82875804 -0.74989129 -0.6785297  -0.74979728\n",
      " -0.67844463  1.13350871  1.0256411   0.43786245 -0.60465438 -1.11391223\n",
      " -1.00790946 -0.9119942  -0.96104469  0.8778016   0.79426774  0.26383184\n",
      " -0.35062401 -0.23778811 -0.9206434  -1.39983092 -1.26661939  0.14645485\n",
      " -0.05393209 -0.51532754 -0.60212586 -0.54482601 -0.49297896 -0.90091714\n",
      " -1.95162746 -0.01851475 -0.15259106 -0.60459787 -0.54706277 -0.9498542\n",
      " -0.85946362 -0.96412476 -0.87237616  0.91468066  0.20447036  0.18501243\n",
      " -1.40308814 -1.26956665 -1.33520133 -1.34397834  0.61077852  0.55265526\n",
      "  0.04521183 -0.52588897 -1.02184139 -0.98096894 -1.64371292  0.26009785\n",
      " -0.21950506 -0.1986164  -0.17971555 -0.16261335 -1.18046473 -1.20396688\n",
      "  0.15979364 -0.04186266 -0.52805489 -0.61364204 -0.55524628 -1.04840499\n",
      " -1.40348739 -1.83672623  0.08545218  0.02095172 -0.16749202 -0.15155304\n",
      " -0.59198219 -1.10529324 -1.54610806  0.29204577 -0.30254438 -0.27375348\n",
      " -0.70255372 -0.67904844 -0.93671658 -1.31410398  0.55834035 -0.51928969\n",
      " -1.03667106 -1.07385699 -0.89219637 -0.80729266 -1.91776724  0.01212325\n",
      "  0.01096957 -0.04644294 -0.04202331 -1.17446818 -1.51755408 -1.96248865\n",
      " -0.3506305  -0.23779398 -0.2151649  -0.64954058 -0.58772862 -1.23443538\n",
      " -1.03749372 -1.69485866 -0.33217811 -0.75541851 -0.68353093 -0.61848436\n",
      " -0.61599641 -0.5573766  -0.5043352  -0.31994914 -0.47595187 -1.05667327\n",
      " -0.95611752 -0.8651309  -1.23765414 -1.11987578  0.59824707 -0.49200975\n",
      " -0.63163875 -1.02638171 -0.92870857 -1.01952004 -1.41267587  0.46914882\n",
      " -0.30794389 -1.30028881 -1.31238819 -1.10802833 -1.00258549 -0.90717687\n",
      "  0.28524198  0.1222594  -0.96890004 -0.87669701 -1.36006658 -1.68549046\n",
      " -1.66093306  0.13753611  0.12444782  0.11260504 -0.44410812 -0.85669698\n",
      " -2.04745362 -1.77314304  0.14298464 -0.10042362 -1.09171576 -1.12366349\n",
      " -0.93726316 -0.84807078 -0.76736617  0.03139953 -0.86352227 -0.70187765\n",
      " -1.18108254 -1.06868768 -1.42183993 -1.28653397  0.40409696 -0.12168666\n",
      " -0.29655656 -0.72318681 -1.90584768 -1.64501269 -1.48846903  0.40056833\n",
      " -0.09240212 -0.83685713 -0.81358826 -1.32551403 -1.19937469  0.20730038\n",
      " -0.51791068 -0.57560528 -0.52082919 -1.03806406 -1.48527658 -1.93462338\n",
      " -0.00312882  0.07663854 -0.1171045  -0.71895769 -1.10539115 -2.24883319\n",
      " -1.95535881 -0.02189101 -0.01980781 -0.65922409 -0.73232885 -0.58316893\n",
      " -0.52767307 -1.63645287 -2.50237344 -0.83913846 -0.67981427 -0.61512138\n",
      " -0.55658485 -0.95847012 -1.00309785 -1.56061816 -0.23151322 -0.82247898\n",
      " -1.3348993  -1.20786684 -1.0134535  -0.91701065  0.18519796 -0.28727729\n",
      " -0.96257578 -0.79150497 -0.58342375 -1.32735071 -1.79172614 -0.34035782\n",
      " -0.30796849 -0.27866141 -0.81894159 -1.51814846 -1.29420793 -1.17104776\n",
      "  1.16130901  0.91495762 -0.17082978 -0.70057055 -1.20070077 -1.2222772\n",
      "  0.26604693  0.01092775 -0.12595038 -0.11396462  0.10910972 -0.54257469\n",
      " -1.7395758  -0.43963962 -0.31833277 -0.74289073 -0.99448347 -0.89984586\n",
      " -0.73474459 -1.23162272 -0.50371445 -0.68558115 -0.4081103  -0.42204148\n",
      " -0.51771714 -1.10975109 -0.9246747   0.30056066  0.13612031 -0.93137231\n",
      " -0.76327091 -0.8264743  -0.74782487  0.84092941 -0.18412292 -0.86923785\n",
      " -0.78651893 -0.89812168 -1.60127363  0.16266028  0.10382956  0.09394887\n",
      " -0.07189259 -0.65574065 -0.46057911 -0.38063115  0.51104775  0.0075638\n",
      "  0.00684401 -0.59617328 -1.29268812 -1.16967258  0.1908244   0.24905601\n",
      "  0.03890528  0.03520295 -0.42299838 -1.57555729 -2.20142204 -0.24453823\n",
      " -0.22126734 -0.71143091 -0.12685172 -0.16847053 -0.25215861 -1.24981219\n",
      "  0.43006405  0.38913804  0.42849762 -0.77127385 -1.33917869 -1.34757721\n",
      "  0.60752213 -0.01708956 -0.4703146  -0.74784639 -0.64056134 -0.47596409\n",
      " -0.56650834  0.67296122  0.04212217 -0.57488343 -0.70970461 -1.01754901\n",
      " -0.92071642  0.77845392  0.47457276 -1.05876622 -1.09384952 -0.85699641\n",
      " -0.69597281  0.93119865  0.19912582  0.13682494  0.01682402 -0.41881575\n",
      " -0.96964971  0.40348769  0.13528929 -0.01342341 -0.46699733 -0.34308705\n",
      " -1.06676489 -1.57824594 -0.13551651 -0.0431508  -0.90732998 -0.82098611\n",
      " -0.74285895 -1.61434662  0.10747981  0.56043899  0.58657578 -0.05993384\n",
      " -0.8103259  -0.77656474 -1.16919261 -0.33526672 -0.48981179 -0.44320004\n",
      " -0.45739259 -0.45721748 -1.05500873  0.87224903 -0.32663079 -0.86519336\n",
      " -1.23771065 -1.44221505 -1.26885208  1.11616355  0.55509521  0.39221196\n",
      " -0.25526181 -0.23097044 -0.79968025 -1.3765583   0.50182934 -0.11865028\n",
      " -0.15071077 -1.07854878 -1.16236121]\n"
     ]
    }
   ],
   "source": [
    "print surr_pop.bias_values_sim.T[0]\n",
    "# Validate the noise model of the surrogate model\n",
    "\n",
    "# ramp_ranges = np.array([[-0.1, 0.1], [1.25, 1.75]])\n",
    "# Get the random range of points from the function\n",
    "\n",
    "# surr_pop.createNoiseModel()\n"
   ]
  }
 ],
 "metadata": {
  "kernelspec": {
   "display_name": "Python 2",
   "language": "python",
   "name": "python2"
  },
  "language_info": {
   "codemirror_mode": {
    "name": "ipython",
    "version": 2
   },
   "file_extension": ".py",
   "mimetype": "text/x-python",
   "name": "python",
   "nbconvert_exporter": "python",
   "pygments_lexer": "ipython2",
   "version": "2.7.13"
  }
 },
 "nbformat": 4,
 "nbformat_minor": 2
}
